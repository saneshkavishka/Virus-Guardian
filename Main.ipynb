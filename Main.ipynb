{
 "cells": [
  {
   "cell_type": "code",
   "execution_count": 1,
   "id": "38b9e7cb",
   "metadata": {},
   "outputs": [],
   "source": [
    "from flask import Flask, request, jsonify\n",
    "import sys\n",
    "%run predict.ipynb\n",
    "from flask_cors import CORS"
   ]
  },
  {
   "cell_type": "code",
   "execution_count": 2,
   "id": "82b5f610",
   "metadata": {},
   "outputs": [
    {
     "data": {
      "text/plain": [
       "<flask_cors.extension.CORS at 0x1e0b5a16690>"
      ]
     },
     "execution_count": 2,
     "metadata": {},
     "output_type": "execute_result"
    }
   ],
   "source": [
    "app = Flask(__name__)\n",
    "CORS(app)"
   ]
  },
  {
   "cell_type": "code",
   "execution_count": 3,
   "id": "c05f6cb4",
   "metadata": {},
   "outputs": [],
   "source": [
    "@app.route('/check_malware', methods=['POST'])\n",
    "def check_malware():\n",
    "    file = request.files['file']\n",
    "    filename = file.filename\n",
    "    file.save(filename)\n",
    "    legitimate = checkFile(filename)\n",
    "\n",
    "    if legitimate:\n",
    "        result = {\n",
    "            'legitimate': True,\n",
    "            'message': f\"File {filename} seems legitimate.\"\n",
    "        }\n",
    "    else:\n",
    "        result = {\n",
    "            'legitimate': False,\n",
    "            'message': f\"File {filename} is probably a MALWARE!!!\"\n",
    "        }\n",
    "\n",
    "    return jsonify(result)"
   ]
  },
  {
   "cell_type": "code",
   "execution_count": 4,
   "id": "151f66b8",
   "metadata": {},
   "outputs": [
    {
     "name": "stdout",
     "output_type": "stream",
     "text": [
      " * Serving Flask app '__main__'\n",
      " * Debug mode: off\n"
     ]
    },
    {
     "name": "stderr",
     "output_type": "stream",
     "text": [
      "WARNING: This is a development server. Do not use it in a production deployment. Use a production WSGI server instead.\n",
      " * Running on http://127.0.0.1:5000\n",
      "Press CTRL+C to quit\n"
     ]
    },
    {
     "name": "stderr",
     "output_type": "stream",
     "text": [
      "127.0.0.1 - - [03/Nov/2023 22:31:39] \"POST /check_malware HTTP/1.1\" 200 -\n"
     ]
    }
   ],
   "source": [
    "if __name__ == \"__main__\":\n",
    "    app.run()"
   ]
  },
  {
   "cell_type": "code",
   "execution_count": null,
   "id": "529e1264",
   "metadata": {},
   "outputs": [],
   "source": [
    "!pip install --upgrade flask"
   ]
  },
  {
   "cell_type": "code",
   "execution_count": null,
   "id": "58480af9",
   "metadata": {},
   "outputs": [],
   "source": []
  }
 ],
 "metadata": {
  "kernelspec": {
   "display_name": "Python 3 (ipykernel)",
   "language": "python",
   "name": "python3"
  },
  "language_info": {
   "codemirror_mode": {
    "name": "ipython",
    "version": 3
   },
   "file_extension": ".py",
   "mimetype": "text/x-python",
   "name": "python",
   "nbconvert_exporter": "python",
   "pygments_lexer": "ipython3",
   "version": "3.11.3"
  }
 },
 "nbformat": 4,
 "nbformat_minor": 5
}
